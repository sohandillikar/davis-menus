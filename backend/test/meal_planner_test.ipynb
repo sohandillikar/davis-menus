{
 "cells": [
  {
   "cell_type": "code",
   "execution_count": 1,
   "id": "3bc16405",
   "metadata": {},
   "outputs": [
    {
     "name": "stdout",
     "output_type": "stream",
     "text": [
      "{'breakfast': {'explanation': 'This breakfast is high in protein and healthy '\n",
      "                              'fats, providing sustained energy and essential '\n",
      "                              'nutrients.',\n",
      "               'items': [{'name': 'Sautéed Chicken with Garlic and Onion',\n",
      "                          'quantity': 4},\n",
      "                         {'name': 'Basic Omelet', 'quantity': 4},\n",
      "                         {'name': 'Diced Red Bell Peppers', 'quantity': 100}]},\n",
      " 'dinner': {'explanation': 'A balanced dinner with protein, carbs, and flavor, '\n",
      "                           'promoting satiety and a satisfying end to the day.',\n",
      "            'items': [{'name': 'Sriracha Honey Chicken', 'quantity': 5.92},\n",
      "                      {'name': 'Chipotle Pinto Beans', 'quantity': 4.8},\n",
      "                      {'name': 'Cilantro Rice', 'quantity': 3}]},\n",
      " 'lunch': {'explanation': 'Packed with lean proteins and fiber, this lunch '\n",
      "                          'supports muscle recovery and keeps you full longer.',\n",
      "           'items': [{'name': 'Wok Chicken', 'quantity': 100},\n",
      "                     {'name': \"Za'atar Lemon Chicken Drumstick\", 'quantity': 6},\n",
      "                     {'name': 'Roasted Herb Red Potatoes', 'quantity': 2},\n",
      "                     {'name': 'Chopped Romaine Lettuce', 'quantity': 1}]}}\n",
      "Time taken: 4.043792963027954 seconds\n"
     ]
    }
   ],
   "source": [
    "from meal_planner import MealPlanner\n",
    "\n",
    "meal_planner = MealPlanner('2025-08-19', {\n",
    "    'calories': 2500,\n",
    "    'protein': 100,\n",
    "    'meals': {\n",
    "        'breakfast': 'tercero',\n",
    "        'lunch': 'tercero',\n",
    "        'dinner': 'tercero'\n",
    "    },\n",
    "    'diets': [],\n",
    "    'allergens': []\n",
    "})"
   ]
  },
  {
   "cell_type": "code",
   "execution_count": 6,
   "id": "8fcfce45",
   "metadata": {},
   "outputs": [],
   "source": [
    "df = meal_planner.healthy_items.copy()\n",
    "interested_cols = ['item_name', 'calories', 'protein_g', 'protein_density', 'pd_difference', 'is_fruit', 'is_vegetable', 'is_protein', 'is_lean_protein', 'is_grain', 'is_whole_grain']"
   ]
  },
  {
   "cell_type": "code",
   "execution_count": 7,
   "id": "d97c7fd9",
   "metadata": {},
   "outputs": [
    {
     "data": {
      "text/plain": [
       "{'breakfast': {'calories': 750.0, 'protein': 30.0},\n",
       " 'lunch': {'calories': 875.0, 'protein': 35.0},\n",
       " 'dinner': {'calories': 875.0, 'protein': 35.0}}"
      ]
     },
     "execution_count": 7,
     "metadata": {},
     "output_type": "execute_result"
    }
   ],
   "source": [
    "goals_by_meals = meal_planner.split_goals_by_meals()\n",
    "goals_by_meals"
   ]
  },
  {
   "cell_type": "code",
   "execution_count": 8,
   "id": "870ba712",
   "metadata": {},
   "outputs": [
    {
     "data": {
      "text/html": [
       "<div>\n",
       "<style scoped>\n",
       "    .dataframe tbody tr th:only-of-type {\n",
       "        vertical-align: middle;\n",
       "    }\n",
       "\n",
       "    .dataframe tbody tr th {\n",
       "        vertical-align: top;\n",
       "    }\n",
       "\n",
       "    .dataframe thead th {\n",
       "        text-align: right;\n",
       "    }\n",
       "</style>\n",
       "<table border=\"1\" class=\"dataframe\">\n",
       "  <thead>\n",
       "    <tr style=\"text-align: right;\">\n",
       "      <th></th>\n",
       "      <th>item_name</th>\n",
       "      <th>calories</th>\n",
       "      <th>protein_g</th>\n",
       "      <th>protein_density</th>\n",
       "      <th>pd_difference</th>\n",
       "      <th>is_fruit</th>\n",
       "      <th>is_vegetable</th>\n",
       "      <th>is_protein</th>\n",
       "      <th>is_lean_protein</th>\n",
       "      <th>is_grain</th>\n",
       "      <th>is_whole_grain</th>\n",
       "    </tr>\n",
       "  </thead>\n",
       "  <tbody>\n",
       "    <tr>\n",
       "      <th>131</th>\n",
       "      <td>Egg Salad</td>\n",
       "      <td>287.50</td>\n",
       "      <td>11.30</td>\n",
       "      <td>0.039304</td>\n",
       "      <td>0.000696</td>\n",
       "      <td>False</td>\n",
       "      <td>False</td>\n",
       "      <td>True</td>\n",
       "      <td>True</td>\n",
       "      <td>False</td>\n",
       "      <td>False</td>\n",
       "    </tr>\n",
       "    <tr>\n",
       "      <th>122</th>\n",
       "      <td>Cheese Phesto Pizza</td>\n",
       "      <td>152.92</td>\n",
       "      <td>5.90</td>\n",
       "      <td>0.038582</td>\n",
       "      <td>0.001418</td>\n",
       "      <td>False</td>\n",
       "      <td>False</td>\n",
       "      <td>False</td>\n",
       "      <td>False</td>\n",
       "      <td>True</td>\n",
       "      <td>False</td>\n",
       "    </tr>\n",
       "    <tr>\n",
       "      <th>125</th>\n",
       "      <td>Carrot Spiced Soup</td>\n",
       "      <td>48.00</td>\n",
       "      <td>0.88</td>\n",
       "      <td>0.018333</td>\n",
       "      <td>0.021667</td>\n",
       "      <td>False</td>\n",
       "      <td>True</td>\n",
       "      <td>False</td>\n",
       "      <td>False</td>\n",
       "      <td>False</td>\n",
       "      <td>False</td>\n",
       "    </tr>\n",
       "    <tr>\n",
       "      <th>127</th>\n",
       "      <td>Watermelon</td>\n",
       "      <td>33.90</td>\n",
       "      <td>0.68</td>\n",
       "      <td>0.020059</td>\n",
       "      <td>0.019941</td>\n",
       "      <td>True</td>\n",
       "      <td>False</td>\n",
       "      <td>False</td>\n",
       "      <td>False</td>\n",
       "      <td>False</td>\n",
       "      <td>False</td>\n",
       "    </tr>\n",
       "    <tr>\n",
       "      <th>131</th>\n",
       "      <td>Egg Salad</td>\n",
       "      <td>287.50</td>\n",
       "      <td>11.30</td>\n",
       "      <td>0.039304</td>\n",
       "      <td>0.000696</td>\n",
       "      <td>False</td>\n",
       "      <td>False</td>\n",
       "      <td>True</td>\n",
       "      <td>True</td>\n",
       "      <td>False</td>\n",
       "      <td>False</td>\n",
       "    </tr>\n",
       "    <tr>\n",
       "      <th>125</th>\n",
       "      <td>Carrot Spiced Soup</td>\n",
       "      <td>48.00</td>\n",
       "      <td>0.88</td>\n",
       "      <td>0.018333</td>\n",
       "      <td>0.021667</td>\n",
       "      <td>False</td>\n",
       "      <td>True</td>\n",
       "      <td>False</td>\n",
       "      <td>False</td>\n",
       "      <td>False</td>\n",
       "      <td>False</td>\n",
       "    </tr>\n",
       "  </tbody>\n",
       "</table>\n",
       "</div>"
      ],
      "text/plain": [
       "               item_name  calories  protein_g  protein_density  pd_difference  \\\n",
       "131            Egg Salad    287.50      11.30         0.039304       0.000696   \n",
       "122  Cheese Phesto Pizza    152.92       5.90         0.038582       0.001418   \n",
       "125   Carrot Spiced Soup     48.00       0.88         0.018333       0.021667   \n",
       "127           Watermelon     33.90       0.68         0.020059       0.019941   \n",
       "131            Egg Salad    287.50      11.30         0.039304       0.000696   \n",
       "125   Carrot Spiced Soup     48.00       0.88         0.018333       0.021667   \n",
       "\n",
       "     is_fruit  is_vegetable  is_protein  is_lean_protein  is_grain  \\\n",
       "131     False         False        True             True     False   \n",
       "122     False         False       False            False      True   \n",
       "125     False          True       False            False     False   \n",
       "127      True         False       False            False     False   \n",
       "131     False         False        True             True     False   \n",
       "125     False          True       False            False     False   \n",
       "\n",
       "     is_whole_grain  \n",
       "131           False  \n",
       "122           False  \n",
       "125           False  \n",
       "127           False  \n",
       "131           False  \n",
       "125           False  "
      ]
     },
     "execution_count": 8,
     "metadata": {},
     "output_type": "execute_result"
    }
   ],
   "source": [
    "meal = 'dinner'\n",
    "meal_plan1 = meal_planner.plan_meal(meal, goals_by_meals[meal]['calories'], goals_by_meals[meal]['protein'])\n",
    "\n",
    "meal_plan1[interested_cols]"
   ]
  },
  {
   "cell_type": "code",
   "execution_count": 9,
   "id": "835ba0c1",
   "metadata": {},
   "outputs": [
    {
     "data": {
      "text/plain": [
       "'858 calories, 31 protein'"
      ]
     },
     "execution_count": 9,
     "metadata": {},
     "output_type": "execute_result"
    }
   ],
   "source": [
    "f\"{round(meal_plan1['calories'].sum())} calories, {round(meal_plan1['protein_g'].sum())} protein\""
   ]
  },
  {
   "cell_type": "code",
   "execution_count": 6,
   "id": "2aaaca4c",
   "metadata": {},
   "outputs": [
    {
     "data": {
      "text/html": [
       "<div>\n",
       "<style scoped>\n",
       "    .dataframe tbody tr th:only-of-type {\n",
       "        vertical-align: middle;\n",
       "    }\n",
       "\n",
       "    .dataframe tbody tr th {\n",
       "        vertical-align: top;\n",
       "    }\n",
       "\n",
       "    .dataframe thead th {\n",
       "        text-align: right;\n",
       "    }\n",
       "</style>\n",
       "<table border=\"1\" class=\"dataframe\">\n",
       "  <thead>\n",
       "    <tr style=\"text-align: right;\">\n",
       "      <th></th>\n",
       "      <th>item_name</th>\n",
       "      <th>calories</th>\n",
       "      <th>protein_g</th>\n",
       "      <th>protein_density</th>\n",
       "      <th>pd_difference</th>\n",
       "      <th>is_fruit</th>\n",
       "      <th>is_vegetable</th>\n",
       "      <th>is_protein</th>\n",
       "      <th>is_lean_protein</th>\n",
       "      <th>is_grain</th>\n",
       "      <th>is_whole_grain</th>\n",
       "      <th>is_protein_or_grain</th>\n",
       "    </tr>\n",
       "  </thead>\n",
       "  <tbody>\n",
       "    <tr>\n",
       "      <th>131</th>\n",
       "      <td>Egg Salad</td>\n",
       "      <td>287.50</td>\n",
       "      <td>11.30</td>\n",
       "      <td>0.039304</td>\n",
       "      <td>0.000696</td>\n",
       "      <td>False</td>\n",
       "      <td>False</td>\n",
       "      <td>True</td>\n",
       "      <td>True</td>\n",
       "      <td>False</td>\n",
       "      <td>False</td>\n",
       "      <td>True</td>\n",
       "    </tr>\n",
       "    <tr>\n",
       "      <th>125</th>\n",
       "      <td>Carrot Spiced Soup</td>\n",
       "      <td>48.00</td>\n",
       "      <td>0.88</td>\n",
       "      <td>0.018333</td>\n",
       "      <td>0.021667</td>\n",
       "      <td>False</td>\n",
       "      <td>True</td>\n",
       "      <td>False</td>\n",
       "      <td>False</td>\n",
       "      <td>False</td>\n",
       "      <td>False</td>\n",
       "      <td>False</td>\n",
       "    </tr>\n",
       "    <tr>\n",
       "      <th>127</th>\n",
       "      <td>Watermelon</td>\n",
       "      <td>33.90</td>\n",
       "      <td>0.68</td>\n",
       "      <td>0.020059</td>\n",
       "      <td>0.019941</td>\n",
       "      <td>True</td>\n",
       "      <td>False</td>\n",
       "      <td>False</td>\n",
       "      <td>False</td>\n",
       "      <td>False</td>\n",
       "      <td>False</td>\n",
       "      <td>False</td>\n",
       "    </tr>\n",
       "    <tr>\n",
       "      <th>131</th>\n",
       "      <td>Egg Salad</td>\n",
       "      <td>287.50</td>\n",
       "      <td>11.30</td>\n",
       "      <td>0.039304</td>\n",
       "      <td>0.000696</td>\n",
       "      <td>False</td>\n",
       "      <td>False</td>\n",
       "      <td>True</td>\n",
       "      <td>True</td>\n",
       "      <td>False</td>\n",
       "      <td>False</td>\n",
       "      <td>True</td>\n",
       "    </tr>\n",
       "    <tr>\n",
       "      <th>125</th>\n",
       "      <td>Carrot Spiced Soup</td>\n",
       "      <td>48.00</td>\n",
       "      <td>0.88</td>\n",
       "      <td>0.018333</td>\n",
       "      <td>0.021667</td>\n",
       "      <td>False</td>\n",
       "      <td>True</td>\n",
       "      <td>False</td>\n",
       "      <td>False</td>\n",
       "      <td>False</td>\n",
       "      <td>False</td>\n",
       "      <td>False</td>\n",
       "    </tr>\n",
       "    <tr>\n",
       "      <th>127</th>\n",
       "      <td>Watermelon</td>\n",
       "      <td>33.90</td>\n",
       "      <td>0.68</td>\n",
       "      <td>0.020059</td>\n",
       "      <td>0.019941</td>\n",
       "      <td>True</td>\n",
       "      <td>False</td>\n",
       "      <td>False</td>\n",
       "      <td>False</td>\n",
       "      <td>False</td>\n",
       "      <td>False</td>\n",
       "      <td>False</td>\n",
       "    </tr>\n",
       "    <tr>\n",
       "      <th>115</th>\n",
       "      <td>Chipotle Pinto Beans</td>\n",
       "      <td>106.24</td>\n",
       "      <td>4.23</td>\n",
       "      <td>0.039816</td>\n",
       "      <td>0.000184</td>\n",
       "      <td>False</td>\n",
       "      <td>False</td>\n",
       "      <td>True</td>\n",
       "      <td>True</td>\n",
       "      <td>False</td>\n",
       "      <td>False</td>\n",
       "      <td>True</td>\n",
       "    </tr>\n",
       "  </tbody>\n",
       "</table>\n",
       "</div>"
      ],
      "text/plain": [
       "                item_name  calories  protein_g  protein_density  \\\n",
       "131             Egg Salad    287.50      11.30         0.039304   \n",
       "125    Carrot Spiced Soup     48.00       0.88         0.018333   \n",
       "127            Watermelon     33.90       0.68         0.020059   \n",
       "131             Egg Salad    287.50      11.30         0.039304   \n",
       "125    Carrot Spiced Soup     48.00       0.88         0.018333   \n",
       "127            Watermelon     33.90       0.68         0.020059   \n",
       "115  Chipotle Pinto Beans    106.24       4.23         0.039816   \n",
       "\n",
       "     pd_difference  is_fruit  is_vegetable  is_protein  is_lean_protein  \\\n",
       "131       0.000696     False         False        True             True   \n",
       "125       0.021667     False          True       False            False   \n",
       "127       0.019941      True         False       False            False   \n",
       "131       0.000696     False         False        True             True   \n",
       "125       0.021667     False          True       False            False   \n",
       "127       0.019941      True         False       False            False   \n",
       "115       0.000184     False         False        True             True   \n",
       "\n",
       "     is_grain  is_whole_grain  is_protein_or_grain  \n",
       "131     False           False                 True  \n",
       "125     False           False                False  \n",
       "127     False           False                False  \n",
       "131     False           False                 True  \n",
       "125     False           False                False  \n",
       "127     False           False                False  \n",
       "115     False           False                 True  "
      ]
     },
     "execution_count": 6,
     "metadata": {},
     "output_type": "execute_result"
    }
   ],
   "source": [
    "meal = 'dinner'\n",
    "meal_plan2 = meal_planner.plan_meal(meal, goals_by_meals[meal]['calories'], goals_by_meals[meal]['protein'], max_repeated_items=3)\n",
    "\n",
    "meal_plan2[interested_cols]"
   ]
  },
  {
   "cell_type": "code",
   "execution_count": 7,
   "id": "43e56b0f",
   "metadata": {},
   "outputs": [
    {
     "data": {
      "text/plain": [
       "'845 calories, 30 protein'"
      ]
     },
     "execution_count": 7,
     "metadata": {},
     "output_type": "execute_result"
    }
   ],
   "source": [
    "f\"{round(meal_plan2['calories'].sum())} calories, {round(meal_plan2['protein_g'].sum())} protein\""
   ]
  },
  {
   "cell_type": "code",
   "execution_count": 8,
   "id": "f4c9d5ce",
   "metadata": {},
   "outputs": [],
   "source": [
    "import json\n",
    "from meal_planner import MealPlanner\n",
    "\n",
    "meal_planner = MealPlanner(date=\"2025-08-19\", preferences={\n",
    "    \"calories\": 2500,\n",
    "    \"protein\": 100,\n",
    "    \"meals\": {\n",
    "        \"breakfast\": \"tercero\",\n",
    "        \"lunch\": \"tercero\",\n",
    "        \"dinner\": \"tercero\"\n",
    "    },\n",
    "    \"diets\": [],\n",
    "    \"allergens\": []\n",
    "})"
   ]
  },
  {
   "cell_type": "code",
   "execution_count": 12,
   "id": "0e756ba9",
   "metadata": {},
   "outputs": [
    {
     "name": "stdout",
     "output_type": "stream",
     "text": [
      "CompletionUsage(completion_tokens=210, prompt_tokens=3433, total_tokens=3643, completion_tokens_details=CompletionTokensDetails(accepted_prediction_tokens=0, audio_tokens=0, reasoning_tokens=0, rejected_prediction_tokens=0), prompt_tokens_details=PromptTokensDetails(audio_tokens=0, cached_tokens=0))\n"
     ]
    }
   ],
   "source": [
    "meal_plan = meal_planner.plan_meals2(model='gpt-4.1')"
   ]
  },
  {
   "cell_type": "code",
   "execution_count": 13,
   "id": "e0e69af4",
   "metadata": {},
   "outputs": [
    {
     "data": {
      "text/plain": [
       "(2472.4599999999996, 208.62)"
      ]
     },
     "execution_count": 13,
     "metadata": {},
     "output_type": "execute_result"
    }
   ],
   "source": [
    "total_calories = 0\n",
    "total_protein = 0\n",
    "\n",
    "for meal in meal_plan:\n",
    "    for item in meal_plan[meal]['items']:\n",
    "        total_calories += float(item['item']['calories']) * item['quantity']\n",
    "        total_protein += float(item['item']['protein_g']) * item['quantity']\n",
    "\n",
    "total_calories, total_protein"
   ]
  },
  {
   "cell_type": "code",
   "execution_count": null,
   "id": "bdac327f",
   "metadata": {},
   "outputs": [],
   "source": []
  }
 ],
 "metadata": {
  "kernelspec": {
   "display_name": "Python 3",
   "language": "python",
   "name": "python3"
  },
  "language_info": {
   "codemirror_mode": {
    "name": "ipython",
    "version": 3
   },
   "file_extension": ".py",
   "mimetype": "text/x-python",
   "name": "python",
   "nbconvert_exporter": "python",
   "pygments_lexer": "ipython3",
   "version": "3.13.5"
  }
 },
 "nbformat": 4,
 "nbformat_minor": 5
}
